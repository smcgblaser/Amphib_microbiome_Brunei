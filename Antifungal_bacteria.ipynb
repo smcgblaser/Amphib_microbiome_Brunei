{
 "cells": [
  {
   "cell_type": "code",
   "execution_count": 2,
   "id": "43d06195-16e9-4706-9bd4-1ae431d681de",
   "metadata": {},
   "outputs": [],
   "source": [
    "source \"${HOME}/conda/etc/profile.d/conda.sh\""
   ]
  },
  {
   "cell_type": "markdown",
   "id": "4405cc0a-3156-4fbd-9c0b-e4f2b3b4d1e4",
   "metadata": {},
   "source": [
    "Activation qiime2"
   ]
  },
  {
   "cell_type": "code",
   "execution_count": 3,
   "id": "2e67bdc9-7b24-4b7e-9fcf-6c1667497697",
   "metadata": {},
   "outputs": [
    {
     "name": "stdout",
     "output_type": "stream",
     "text": [
      "(qiime2-2023.7) \n"
     ]
    },
    {
     "ename": "",
     "evalue": "1",
     "output_type": "error",
     "traceback": []
    }
   ],
   "source": [
    "conda activate qiime2-2023.7"
   ]
  },
  {
   "cell_type": "markdown",
   "id": "35191d2e-558f-4ca9-a9f8-51c1b925915e",
   "metadata": {},
   "source": [
    "Make sure you're in the correct directory"
   ]
  },
  {
   "cell_type": "code",
   "execution_count": 4,
   "id": "8e2453fa-d093-4ec9-9e21-28c0b1186fe5",
   "metadata": {},
   "outputs": [
    {
     "name": "stdout",
     "output_type": "stream",
     "text": [
      "(qiime2-2023.7) \n"
     ]
    },
    {
     "ename": "",
     "evalue": "1",
     "output_type": "error",
     "traceback": []
    }
   ],
   "source": [
    "cd /work/OVERFLOW/PathScreen/Antifungal_Isolates"
   ]
  },
  {
   "cell_type": "code",
   "execution_count": 5,
   "id": "4c8e7abe-86cb-42c9-86d6-2be507237420",
   "metadata": {},
   "outputs": [
    {
     "name": "stdout",
     "output_type": "stream",
     "text": [
      "/work/OVERFLOW/PathScreen/Antifungal_Isolates\n",
      "(qiime2-2023.7) \n"
     ]
    },
    {
     "ename": "",
     "evalue": "1",
     "output_type": "error",
     "traceback": []
    }
   ],
   "source": [
    "pwd"
   ]
  },
  {
   "cell_type": "markdown",
   "id": "4e6672e3-1ef3-4c87-a432-bcf4b27cbf27",
   "metadata": {},
   "source": [
    "Need to get only the caecilian skin reads from the dataset"
   ]
  },
  {
   "cell_type": "code",
   "execution_count": 29,
   "id": "5f6825a8-edec-491c-85c8-31bceb017087",
   "metadata": {},
   "outputs": [
    {
     "name": "stdout",
     "output_type": "stream",
     "text": [
      "(qiime2-2023.7) \n"
     ]
    },
    {
     "ename": "",
     "evalue": "1",
     "output_type": "error",
     "traceback": []
    }
   ],
   "source": [
    "cp Caecilian_Micro_Metadata_2020.2.txt Caecilian_Micro_Metadata_2020.2.tsv"
   ]
  },
  {
   "cell_type": "code",
   "execution_count": 30,
   "id": "3d408d4e-e1d2-4b63-ba10-fcbcbb3985ac",
   "metadata": {},
   "outputs": [
    {
     "name": "stdout",
     "output_type": "stream",
     "text": [
      "\u001b[32mSaved FeatureTable[Frequency] to: caecilian-filtered-table.qza\u001b[0m\n",
      "\u001b[0m(qiime2-2023.7) \n"
     ]
    },
    {
     "ename": "",
     "evalue": "1",
     "output_type": "error",
     "traceback": []
    }
   ],
   "source": [
    "qiime feature-table filter-samples \\\n",
    "  --i-table table-dada2-caecilian-paired-reads.qza \\\n",
    "  --m-metadata-file Caecilian_Micro_Metadata_2020.2.tsv \\\n",
    "  --p-where \"[Category]='caecilian'\" \\\n",
    "  --o-filtered-table caecilian-filtered-table.qza"
   ]
  },
  {
   "cell_type": "code",
   "execution_count": 31,
   "id": "dc9689e0-484a-4db2-b892-80f429d5c1ba",
   "metadata": {},
   "outputs": [
    {
     "name": "stdout",
     "output_type": "stream",
     "text": [
      "Usage: \u001b[94mqiime taxa filter-seqs\u001b[0m [OPTIONS]\n",
      "\n",
      "  This method filters sequences based on their taxonomic annotations. Features\n",
      "  can be retained in the result by specifying one or more include search\n",
      "  terms, and can be filtered out of the result by specifying one or more\n",
      "  exclude search terms. If both include and exclude are provided, the\n",
      "  inclusion critera will be applied before the exclusion critera. Either\n",
      "  include or exclude terms (or both) must be provided.\n",
      "\n",
      "\u001b[1mInputs\u001b[0m:\n",
      "  \u001b[94m\u001b[4m--i-sequences\u001b[0m ARTIFACT \u001b[32mFeatureData[Sequence]\u001b[0m\n",
      "                          Feature sequences to be filtered.         \u001b[35m[required]\u001b[0m\n",
      "  \u001b[94m\u001b[4m--i-taxonomy\u001b[0m ARTIFACT \u001b[32mFeatureData[Taxonomy]\u001b[0m\n",
      "                          Taxonomic annotations for features in the provided\n",
      "                          feature sequences. All features in the feature\n",
      "                          sequences must have a corresponding taxonomic\n",
      "                          annotation. Taxonomic annotations for features that\n",
      "                          are not present in the feature sequences will be\n",
      "                          ignored.                                  \u001b[35m[required]\u001b[0m\n",
      "\u001b[1mParameters\u001b[0m:\n",
      "  \u001b[94m--p-include\u001b[0m TEXT        One or more search terms that indicate which taxa\n",
      "                          should be included in the resulting sequences. If\n",
      "                          providing more than one term, terms should be\n",
      "                          delimited by the query-delimiter character. By\n",
      "                          default, all taxa will be included.       \u001b[35m[optional]\u001b[0m\n",
      "  \u001b[94m--p-exclude\u001b[0m TEXT        One or more search terms that indicate which taxa\n",
      "                          should be excluded from the resulting sequences. If\n",
      "                          providing more than one term, terms should be\n",
      "                          delimited by the query-delimiter character. By\n",
      "                          default, no taxa will be excluded.        \u001b[35m[optional]\u001b[0m\n",
      "  \u001b[94m--p-query-delimiter\u001b[0m TEXT\n",
      "                          The string used to delimit multiple search terms\n",
      "                          provided to include or exclude. This parameter\n",
      "                          should only need to be modified if the default\n",
      "                          delimiter (a comma) is used in the provided\n",
      "                          taxonomic annotations.                \u001b[35m[default: ',']\u001b[0m\n",
      "  \u001b[94m--p-mode\u001b[0m TEXT \u001b[32mChoices('exact', 'contains')\u001b[0m\n",
      "                          Mode for determining if a search term matches a\n",
      "                          taxonomic annotation. \"contains\" requires that the\n",
      "                          annotation has the term as a substring; \"exact\"\n",
      "                          requires that the annotation is a perfect match to a\n",
      "                          search term.                   \u001b[35m[default: 'contains']\u001b[0m\n",
      "\u001b[1mOutputs\u001b[0m:\n",
      "  \u001b[94m\u001b[4m--o-filtered-sequences\u001b[0m ARTIFACT \u001b[32mFeatureData[Sequence]\u001b[0m\n",
      "                          The taxonomy-filtered feature sequences.  \u001b[35m[required]\u001b[0m\n",
      "\u001b[1mMiscellaneous\u001b[0m:\n",
      "  \u001b[94m--output-dir\u001b[0m PATH       Output unspecified results to a directory\n",
      "  \u001b[94m--verbose\u001b[0m / \u001b[94m--quiet\u001b[0m     Display verbose output to stdout and/or stderr\n",
      "                          during execution of this action. Or silence output\n",
      "                          if execution is successful (silence is golden).\n",
      "  \u001b[94m--example-data\u001b[0m PATH     Write example data and exit.\n",
      "  \u001b[94m--citations\u001b[0m             Show citations and exit.\n",
      "  \u001b[94m--help\u001b[0m                  Show this message and exit.\n",
      "\n",
      "\u001b[33m                    There was a problem with the command:                     \u001b[0m\n",
      "\u001b[31m\u001b[1m (1/1?) No such option: --i-table\u001b[0m\n",
      "\u001b[0m(qiime2-2023.7) \n"
     ]
    },
    {
     "ename": "",
     "evalue": "1",
     "output_type": "error",
     "traceback": []
    }
   ],
   "source": [
    "qiime taxa filter-seqs \\\n",
    "  --i-sequences rep-seqs-caecilian-paired.qza \\\n",
    "  --i-table caecilian-filtered-table.qza \\\n",
    "  --o-filtered-sequences rep-seqs-caecilian-only.qza"
   ]
  },
  {
   "cell_type": "markdown",
   "id": "659bce5c-0811-4a66-9d65-05661f4708e8",
   "metadata": {},
   "source": [
    "Didn't work to use the table to filter the sequences, just going to use the whole dataset"
   ]
  },
  {
   "cell_type": "markdown",
   "id": "d059b4e8-d366-4e92-86f3-ee30ee2e4e84",
   "metadata": {},
   "source": [
    "Import sequences corresponding to the Antifungal Isolates Database"
   ]
  },
  {
   "cell_type": "markdown",
   "id": "72881db7-7e43-4484-aa89-886f8161fa2f",
   "metadata": {},
   "source": [
    "Note: To import a .fna file, I followed this tutorial (https://docs.qiime2.org/2024.5/tutorials/otu-clustering/) linked from the qiime2 importing data tutorial. These file types are sequences without quality information and type must be specific to 'SampleData' for this import to work."
   ]
  },
  {
   "cell_type": "code",
   "execution_count": 14,
   "id": "ee5063fe-5a5a-4b88-908d-218bf69be5a3",
   "metadata": {},
   "outputs": [
    {
     "name": "stdout",
     "output_type": "stream",
     "text": [
      "\u001b[32mImported Amphibianskin_bacteria_16S_sequences.fna as QIIME1DemuxDirFmt to Amphibianskin_bacteria_16S_sequences.qza\u001b[0m\n",
      "\u001b[0m(qiime2-2023.7) \n"
     ]
    },
    {
     "ename": "",
     "evalue": "1",
     "output_type": "error",
     "traceback": []
    }
   ],
   "source": [
    "qiime tools import --input-path Amphibianskin_bacteria_16S_sequences.fna --output-path Amphibianskin_bacteria_16S_sequences.qza --type 'SampleData[Sequences]'"
   ]
  },
  {
   "cell_type": "markdown",
   "id": "374de631-310b-4335-bddf-f18b620cf9f7",
   "metadata": {},
   "source": [
    "Have to run the code below in order to get sequence file in the correct format for downstream use"
   ]
  },
  {
   "cell_type": "markdown",
   "id": "c506659d-4b4c-43f0-8867-490df7b6e2b3",
   "metadata": {},
   "source": [
    "Info from this tutorial (https://docs.qiime2.org/2024.5/tutorials/otu-clustering/#dereplicating-a-sampledata-sequences-artifact). \n",
    "\"The outputs from dereplicate-sequences are a FeatureTable[Frequency] artifact and a FeatureData[Sequence] artifact. The FeatureTable[Frequency] artifact is the feature table indicating the number of times each amplicon sequence variant (ASV) is observed in each of your samples. The FeatureData[Sequence] contains the mapping of each feature identifier to the sequence variant that defines that feature. These files are analogous to those generated by qiime dada2 denoise-* and qiime deblur denoise-*, except that no denoising, chimera removal, or other quality control has been applied in the dereplication process. (In this example, the only quality control of these data is what was applied outside of QIIME 2, before the import step.)\""
   ]
  },
  {
   "cell_type": "code",
   "execution_count": 15,
   "id": "89edb8ec-326b-4538-831c-ae42519fb7e0",
   "metadata": {},
   "outputs": [
    {
     "name": "stdout",
     "output_type": "stream",
     "text": [
      "\u001b[32mSaved FeatureTable[Frequency] to: table_Amphibianskin_bacteria_16S_sequences.qza\u001b[0m\n",
      "\u001b[32mSaved FeatureData[Sequence] to: rep-seqs_Amphibianskin_bacteria.qza\u001b[0m\n",
      "\u001b[0m(qiime2-2023.7) \n"
     ]
    },
    {
     "ename": "",
     "evalue": "1",
     "output_type": "error",
     "traceback": []
    }
   ],
   "source": [
    "qiime vsearch dereplicate-sequences \\\n",
    "  --i-sequences Amphibianskin_bacteria_16S_sequences.qza \\\n",
    "  --o-dereplicated-table table_Amphibianskin_bacteria_16S_sequences.qza \\\n",
    "  --o-dereplicated-sequences rep-seqs_Amphibianskin_bacteria.qza"
   ]
  },
  {
   "cell_type": "markdown",
   "id": "1c56649c-e36c-43a8-abfd-dee0cfbd8dba",
   "metadata": {},
   "source": [
    "Used the code below to cluster sequences"
   ]
  },
  {
   "cell_type": "code",
   "execution_count": 16,
   "id": "b8f47d04-288a-4072-b4a4-0e6672fb512c",
   "metadata": {},
   "outputs": [
    {
     "name": "stdout",
     "output_type": "stream",
     "text": [
      "\u001b[32mSaved FeatureTable[Frequency] to: table-cr-100.qza\u001b[0m\n",
      "\u001b[32mSaved FeatureData[Sequence] to: rep-seqs-cr-100.qza\u001b[0m\n",
      "\u001b[32mSaved FeatureData[Sequence] to: unmatched-cr-100.qza\u001b[0m\n",
      "\u001b[0m(qiime2-2023.7) \n"
     ]
    },
    {
     "ename": "",
     "evalue": "1",
     "output_type": "error",
     "traceback": []
    }
   ],
   "source": [
    "qiime vsearch cluster-features-closed-reference \\\n",
    "  --i-table table-dada2-caecilian-paired-reads.qza \\\n",
    "  --i-sequences rep-seqs-caecilian-paired.qza \\\n",
    "  --i-reference-sequences rep-seqs_Amphibianskin_bacteria.qza \\\n",
    "  --p-perc-identity 1 \\\n",
    "  --o-clustered-table table-cr-100.qza \\\n",
    "  --o-clustered-sequences rep-seqs-cr-100.qza \\\n",
    "  --o-unmatched-sequences unmatched-cr-100.qza"
   ]
  },
  {
   "cell_type": "code",
   "execution_count": null,
   "id": "7550eee9-539e-4e0a-8ea2-ccabf4da72f3",
   "metadata": {},
   "outputs": [],
   "source": [
    "qiime feature-table summarize \\\n",
    "  --i-table table-cr-100.qza \\\n",
    "  --o-visualization table-cr-100.qzv"
   ]
  },
  {
   "cell_type": "markdown",
   "id": "3d79ca3e-db90-4394-9d41-83366c6bed39",
   "metadata": {},
   "source": [
    "From (https://docs.qiime2.org/2024.5/tutorials/otu-clustering/#dereplicating-a-sampledata-sequences-artifact). \"The outputs from cluster-features-closed-reference are a FeatureTable[Frequency] artifact and two FeatureData[Sequence] artifacts. The FeatureData[Sequence] artifacts consist of the sequences defining the features in the FeatureTable (rep-seqs-cr-85.qza from the command block above) as well as the collection of feature ids and their sequences that didn’t match the reference database at 85% identity. The reference sequences provided as input should be used as sequences defining the features in the FeatureTable in closed-reference OTU picking.\""
   ]
  },
  {
   "cell_type": "code",
   "execution_count": 17,
   "id": "51aca3ae-6606-4ec5-8e65-d8fd43d6a089",
   "metadata": {},
   "outputs": [
    {
     "name": "stdout",
     "output_type": "stream",
     "text": [
      "\u001b[32mSaved Visualization to: rep-seqs-cr-100.qzv\u001b[0m\n",
      "\u001b[0m(qiime2-2023.7) \n"
     ]
    },
    {
     "ename": "",
     "evalue": "1",
     "output_type": "error",
     "traceback": []
    }
   ],
   "source": [
    "qiime feature-table tabulate-seqs \\\n",
    "  --i-data rep-seqs-cr-100.qza \\\n",
    "  --o-visualization rep-seqs-cr-100.qzv"
   ]
  },
  {
   "cell_type": "markdown",
   "id": "cd8010a1-5b3c-4bd4-bb99-4fff3b282433",
   "metadata": {},
   "source": [
    "Took a look at the visualization, got 78 matches to the reference sequences (i.e., 78 sequences from our caecilian skin swabs matched at 100% identity to the Antifungal Isolates Database)"
   ]
  },
  {
   "cell_type": "markdown",
   "id": "d938aa2e-e45d-466b-9892-374378a9fd29",
   "metadata": {},
   "source": [
    "Imported the taxonomy to try and see what taxa these sequences represent"
   ]
  },
  {
   "cell_type": "code",
   "execution_count": 7,
   "id": "36b11d28-b6d1-40f7-8787-3c5c3a3d3ebe",
   "metadata": {},
   "outputs": [
    {
     "name": "stdout",
     "output_type": "stream",
     "text": [
      "\u001b[32mImported Antifungal_Isolates_Database_Taxonomy.txt as HeaderlessTSVTaxonomyFormat to Antifungal_Isolates_Database_Taxonomy.qza\u001b[0m\n",
      "\u001b[0m(qiime2-2023.7) \n"
     ]
    },
    {
     "ename": "",
     "evalue": "1",
     "output_type": "error",
     "traceback": []
    }
   ],
   "source": [
    "qiime tools import --type 'FeatureData[Taxonomy]' --input-format HeaderlessTSVTaxonomyFormat --input-path Antifungal_Isolates_Database_Taxonomy.txt --output-path Antifungal_Isolates_Database_Taxonomy.qza"
   ]
  },
  {
   "cell_type": "markdown",
   "id": "3a916bed-5422-443e-aac5-3902471f2942",
   "metadata": {},
   "source": [
    "See code I tried below. Did not work because the sequencing file and information I have from downloading the Antifungal Isolates Database doesn't match up with what is required for formatting in qiime2; can't seem to find a way to match the seqs output with assigned taxonomy according to what is anti-Bd bacteria, etc."
   ]
  },
  {
   "cell_type": "code",
   "execution_count": 23,
   "id": "3f8f5923-e127-41c3-9c39-cf418f9c90d6",
   "metadata": {},
   "outputs": [
    {
     "name": "stdout",
     "output_type": "stream",
     "text": [
      "\u001b[31m\u001b[1mThere was an issue with merging QIIME 2 Metadata:\n",
      "\n",
      "  Cannot merge because there are no IDs shared across metadata objects.\u001b[0m\n",
      "\n",
      "\u001b[0m(qiime2-2023.7) \n"
     ]
    },
    {
     "ename": "",
     "evalue": "1",
     "output_type": "error",
     "traceback": []
    }
   ],
   "source": [
    "qiime metadata tabulate \\\n",
    "--m-input-file Antifungal_Isolates_Database_Taxonomy.qza \\\n",
    "--m-input-file rep-seqs-cr-100.qza \\\n",
    "--o-visualization merged-table.qzv"
   ]
  },
  {
   "cell_type": "code",
   "execution_count": 22,
   "id": "9e3fcd17-1562-45f7-afff-88886edeae66",
   "metadata": {},
   "outputs": [
    {
     "name": "stdout",
     "output_type": "stream",
     "text": [
      "\u001b[31m\u001b[1mPlugin error from feature-classifier:\n",
      "\n",
      "  not enough values to unpack (expected 2, got 0)\n",
      "\n",
      "Debug info has been saved to /tmp/qiime2-q2cli-err-v47n7r8t.log\u001b[0m\n",
      "\u001b[0m(qiime2-2023.7) \n"
     ]
    },
    {
     "ename": "",
     "evalue": "1",
     "output_type": "error",
     "traceback": []
    }
   ],
   "source": [
    "qiime feature-classifier fit-classifier-naive-bayes \\\n",
    "  --i-reference-reads rep-seqs_Amphibianskin_bacteria.qza \\\n",
    "  --i-reference-taxonomy Antifungal_Isolates_Database_Taxonomy.qza \\\n",
    "  --o-classifier classifier.qza"
   ]
  },
  {
   "cell_type": "markdown",
   "id": "e407768d-9480-4e6e-b2b6-0f56258530bd",
   "metadata": {},
   "source": [
    "Found a tutorial (https://docs.qiime2.org/2017.12/tutorials/quality-control/#excluding-sequences-by-alignment) for aligning seqs using vsearch methods and getting outputs of hits and misses. Here the hits are what we want, these are seqs from our caecilian skin swabs that aligned and matched at 100% identity to the Antifungal Isolates Database"
   ]
  },
  {
   "cell_type": "code",
   "execution_count": 24,
   "id": "815e85e5-fd8b-4b69-b114-f0b871d27e5e",
   "metadata": {},
   "outputs": [
    {
     "name": "stdout",
     "output_type": "stream",
     "text": [
      "\u001b[32mSaved FeatureData[Sequence] to: hits.qza\u001b[0m\n",
      "\u001b[32mSaved FeatureData[Sequence] to: misses.qza\u001b[0m\n",
      "\u001b[0m(qiime2-2023.7) \n"
     ]
    },
    {
     "ename": "",
     "evalue": "1",
     "output_type": "error",
     "traceback": []
    }
   ],
   "source": [
    "qiime quality-control exclude-seqs \\\n",
    "  --i-query-sequences rep-seqs-caecilian-paired.qza \\\n",
    "  --i-reference-sequences rep-seqs_Amphibianskin_bacteria.qza \\\n",
    "  --p-method vsearch \\\n",
    "  --p-perc-identity 1 \\\n",
    "  --p-perc-query-aligned 1 \\\n",
    "  --o-sequence-hits hits.qza \\\n",
    "  --o-sequence-misses misses.qza"
   ]
  },
  {
   "cell_type": "code",
   "execution_count": 25,
   "id": "44c70001-3ce7-4e93-8df8-965007d380e1",
   "metadata": {},
   "outputs": [
    {
     "name": "stdout",
     "output_type": "stream",
     "text": [
      "\u001b[32mSaved Visualization to: hits.qzv\u001b[0m\n",
      "\u001b[0m(qiime2-2023.7) \n"
     ]
    },
    {
     "ename": "",
     "evalue": "1",
     "output_type": "error",
     "traceback": []
    }
   ],
   "source": [
    "qiime feature-table tabulate-seqs \\\n",
    "  --i-data hits.qza \\\n",
    "  --o-visualization hits.qzv"
   ]
  },
  {
   "cell_type": "markdown",
   "id": "d39614c6-aac2-4a31-8115-57fcec1ece09",
   "metadata": {},
   "source": [
    "This output shows 113 matching sequences\n",
    "\n",
    "I downloaded a raw FASTA file from the vizualization page (view.qiime2.org) of the hits.qzv file"
   ]
  },
  {
   "cell_type": "markdown",
   "id": "eaf9c59c-2b8b-4c3d-863d-c99210a40993",
   "metadata": {},
   "source": [
    "Maria sent the results of the DESeq2 analysis and thought it might be usefult to compare those sequences outputs against the Antifungal Isolates Database to see if bacteria more abundant on caecilian skin is relatively more antifungal, so made a txt file with the feature IDs of those 160 ASVs and filtered the caecilian sequences to only these most abundant taxa."
   ]
  },
  {
   "cell_type": "code",
   "execution_count": 7,
   "id": "33392739-5589-42eb-8963-15534b2d908e",
   "metadata": {},
   "outputs": [
    {
     "name": "stdout",
     "output_type": "stream",
     "text": [
      "\u001b[32mSaved FeatureData[Sequence] to: seqs-filt.qza\u001b[0m\n",
      "\u001b[0m(qiime2-2023.7) \n"
     ]
    },
    {
     "ename": "",
     "evalue": "1",
     "output_type": "error",
     "traceback": []
    }
   ],
   "source": [
    "qiime feature-table filter-seqs \\\n",
    "     --i-data rep-seqs-caecilian-paired.qza \\\n",
    "     --m-metadata-file DESeq2_output_seqs.txt \\\n",
    "     --o-filtered-data seqs-filt.qza"
   ]
  },
  {
   "cell_type": "markdown",
   "id": "92ab127a-a604-43da-8761-1d2317449c34",
   "metadata": {},
   "source": [
    "Make sure they look like what I expect"
   ]
  },
  {
   "cell_type": "code",
   "execution_count": 8,
   "id": "d6c050be-02ae-4c3c-925b-f9a33bd462d9",
   "metadata": {},
   "outputs": [
    {
     "name": "stdout",
     "output_type": "stream",
     "text": [
      "\u001b[32mSaved Visualization to: seqs-filt.qzv\u001b[0m\n",
      "\u001b[0m(qiime2-2023.7) \n"
     ]
    },
    {
     "ename": "",
     "evalue": "1",
     "output_type": "error",
     "traceback": []
    }
   ],
   "source": [
    "qiime feature-table tabulate-seqs \\\n",
    "  --i-data seqs-filt.qza \\\n",
    "  --o-visualization seqs-filt.qzv"
   ]
  },
  {
   "cell_type": "markdown",
   "id": "e44eb4c2-f30c-4ecd-9046-fa2bc48f22f7",
   "metadata": {},
   "source": [
    "Use the same exclude-seqs function to get a table of ASVs that match the Antifungal Isolates database at 100% sequence identity"
   ]
  },
  {
   "cell_type": "code",
   "execution_count": 9,
   "id": "8e91777b-fe74-4811-8ebb-1ba9008ae145",
   "metadata": {},
   "outputs": [
    {
     "name": "stdout",
     "output_type": "stream",
     "text": [
      "\u001b[32mSaved FeatureData[Sequence] to: DESeq2-hits.qza\u001b[0m\n",
      "\u001b[32mSaved FeatureData[Sequence] to: DESeq2-misses.qza\u001b[0m\n",
      "\u001b[0m(qiime2-2023.7) \n"
     ]
    },
    {
     "ename": "",
     "evalue": "1",
     "output_type": "error",
     "traceback": []
    }
   ],
   "source": [
    "qiime quality-control exclude-seqs \\\n",
    "  --i-query-sequences seqs-filt.qza \\\n",
    "  --i-reference-sequences rep-seqs_Amphibianskin_bacteria.qza \\\n",
    "  --p-method vsearch \\\n",
    "  --p-perc-identity 1 \\\n",
    "  --p-perc-query-aligned 1 \\\n",
    "  --o-sequence-hits DESeq2-hits.qza \\\n",
    "  --o-sequence-misses DESeq2-misses.qza"
   ]
  },
  {
   "cell_type": "code",
   "execution_count": 10,
   "id": "bd454b3a-a49c-490b-82e7-0099e3a03046",
   "metadata": {},
   "outputs": [
    {
     "name": "stdout",
     "output_type": "stream",
     "text": [
      "\u001b[32mSaved Visualization to: DESeq2-hits.qzv\u001b[0m\n",
      "\u001b[0m(qiime2-2023.7) \n"
     ]
    },
    {
     "ename": "",
     "evalue": "1",
     "output_type": "error",
     "traceback": []
    }
   ],
   "source": [
    "qiime feature-table tabulate-seqs \\\n",
    "  --i-data DESeq2-hits.qza \\\n",
    "  --o-visualization DESeq2-hits.qzv"
   ]
  },
  {
   "cell_type": "markdown",
   "id": "88a93f7e-d8d1-4e44-8297-3cb737b310ed",
   "metadata": {},
   "source": [
    "Visualized the table and saved the resulting .fasta file"
   ]
  },
  {
   "cell_type": "markdown",
   "id": "99c0074e-0cd2-46e2-8324-69a68a3105ee",
   "metadata": {},
   "source": [
    "Filtering the misses information from the dataset to try and see the feature table for the hits data"
   ]
  },
  {
   "cell_type": "code",
   "execution_count": 26,
   "id": "ea01a4b3-d238-4bdd-b77c-d731e3d3ba4f",
   "metadata": {},
   "outputs": [
    {
     "name": "stdout",
     "output_type": "stream",
     "text": [
      "\u001b[32mSaved FeatureTable[Frequency] to: only-hits-filtered-table.qza\u001b[0m\n",
      "\u001b[0m(qiime2-2023.7) \n"
     ]
    },
    {
     "ename": "",
     "evalue": "1",
     "output_type": "error",
     "traceback": []
    }
   ],
   "source": [
    "qiime feature-table filter-features \\\n",
    "  --i-table table_Amphibianskin_bacteria_16S_sequences.qza \\\n",
    "  --m-metadata-file misses.qza \\\n",
    "  --o-filtered-table only-hits-filtered-table.qza"
   ]
  },
  {
   "cell_type": "code",
   "execution_count": 27,
   "id": "937b6186-bee7-4681-a7d0-b9833970580d",
   "metadata": {},
   "outputs": [
    {
     "name": "stdout",
     "output_type": "stream",
     "text": [
      "\u001b[32mSaved Visualization to: only-hits-filtered-table.qzv\u001b[0m\n",
      "\u001b[0m(qiime2-2023.7) \n"
     ]
    },
    {
     "ename": "",
     "evalue": "1",
     "output_type": "error",
     "traceback": []
    }
   ],
   "source": [
    "qiime feature-table summarize \\\n",
    "  --i-table only-hits-filtered-table.qza \\\n",
    "  --o-visualization only-hits-filtered-table.qzv"
   ]
  },
  {
   "cell_type": "markdown",
   "id": "e0c5a51d-2942-4e29-9c99-ea76d4c3cde1",
   "metadata": {},
   "source": [
    "Tried to look at the feature table for this information but came back blank, I think table input is wrong but can't fix it since I didn't process the raw sequencing data in qiime2 from scratch, just using what I got from the data download"
   ]
  },
  {
   "cell_type": "markdown",
   "id": "62d13752-52f7-4784-bcfe-0dca44e07a8d",
   "metadata": {},
   "source": [
    "Lastly, trying this code to see if it gives me anything different"
   ]
  },
  {
   "cell_type": "code",
   "execution_count": 28,
   "id": "de9ee6af-737b-4fff-abf8-c1fd87662e60",
   "metadata": {},
   "outputs": [
    {
     "name": "stdout",
     "output_type": "stream",
     "text": [
      "Running external command line application. This may print messages to stdout and/or stderr.\n",
      "The command being run is below. This command cannot be manually re-run as it will depend on temporary files that no longer exist.\n",
      "\n",
      "Command: vsearch --usearch_global /tmp/qiime2/smcgrath/data/09d73a55-d379-4658-a6b9-2dac06ea415b/data/dna-sequences.fasta --id 1.0 --query_cov 0.8 --strand both --maxaccepts 10 --maxrejects 0 --db /tmp/qiime2/smcgrath/data/eb878246-9a1c-4ad5-8884-775b3be7a158/data/dna-sequences.fasta --threads 1 --output_no_hits --blast6out /tmp/q2-BLAST6Format-sjhqw3r7\n",
      "\n",
      "vsearch v2.22.1_linux_x86_64, 376.4GB RAM, 48 cores\n",
      "https://github.com/torognes/vsearch\n",
      "\n",
      "Reading file /tmp/qiime2/smcgrath/data/eb878246-9a1c-4ad5-8884-775b3be7a158/data/dna-sequences.fasta 100%  \n",
      "2136187 nt in 1913 seqs, min 98, max 1488, avg 1117\n",
      "Masking 100% \n",
      "Counting k-mers 100% \n",
      "Creating k-mer index 100% \n",
      "Searching 100%  \n",
      "Matching unique query sequences: 86 of 3064 (2.81%)\n",
      "Traceback (most recent call last):\n",
      "  File \"/home/smcgrath/conda/envs/qiime2-2023.7/lib/python3.8/site-packages/q2cli/commands.py\", line 478, in __call__\n",
      "    results = self._execute_action(\n",
      "  File \"/home/smcgrath/conda/envs/qiime2-2023.7/lib/python3.8/site-packages/q2cli/commands.py\", line 544, in _execute_action\n",
      "    results = action(**arguments)\n",
      "  File \"<decorator-gen-327>\", line 2, in classify_consensus_vsearch\n",
      "  File \"/home/smcgrath/conda/envs/qiime2-2023.7/lib/python3.8/site-packages/qiime2/sdk/action.py\", line 342, in bound_callable\n",
      "    outputs = self._callable_executor_(\n",
      "  File \"/home/smcgrath/conda/envs/qiime2-2023.7/lib/python3.8/site-packages/qiime2/sdk/action.py\", line 647, in _callable_executor_\n",
      "    outputs = self._callable(scope.ctx, **view_args)\n",
      "  File \"/home/smcgrath/conda/envs/qiime2-2023.7/lib/python3.8/site-packages/q2_feature_classifier/_vsearch.py\", line 120, in classify_consensus_vsearch\n",
      "    consensus, = lca(search_results=result,\n",
      "  File \"/home/smcgrath/conda/envs/qiime2-2023.7/lib/python3.8/site-packages/qiime2/sdk/context.py\", line 140, in deferred_action\n",
      "    return action_obj._bind(\n",
      "  File \"<decorator-gen-741>\", line 2, in find_consensus_annotation\n",
      "  File \"/home/smcgrath/conda/envs/qiime2-2023.7/lib/python3.8/site-packages/qiime2/sdk/action.py\", line 342, in bound_callable\n",
      "    outputs = self._callable_executor_(\n",
      "  File \"/home/smcgrath/conda/envs/qiime2-2023.7/lib/python3.8/site-packages/qiime2/sdk/action.py\", line 566, in _callable_executor_\n",
      "    output_views = self._callable(**view_args)\n",
      "  File \"/home/smcgrath/conda/envs/qiime2-2023.7/lib/python3.8/site-packages/q2_feature_classifier/_consensus_assignment.py\", line 49, in find_consensus_annotation\n",
      "    obs_taxa = _blast6format_df_to_series_of_lists(\n",
      "  File \"/home/smcgrath/conda/envs/qiime2-2023.7/lib/python3.8/site-packages/q2_feature_classifier/_consensus_assignment.py\", line 110, in _blast6format_df_to_series_of_lists\n",
      "    raise KeyError('Reference taxonomy and search results do not match. '\n",
      "KeyError: 'Reference taxonomy and search results do not match. The following identifiers were reported in the search results but are not present in the reference taxonomy: 8e42477fc959136a7956d118f02896750cbbc56e, fe4d34b858ef4c7efa6f4d89d7903f0c85d8bb65, 2c5fac82ac5c06be5c435c424a0fdefaa910942b, fd34e3a38c106b7bbb75b03cf46e167bac0ee784, 279d4d82e67460e8cbecdfa8179fe2a6e686107a, c4da4c4ff1f2171bf05a19ded770a14ac9fd500b, 062108de2a66d4ae57c1fc14ce9cadf15efe9ad5, 598fea4e25522c692665ac334d144483bf6d0784, ef9a3e3b1c09d37a6885cc53f9a21d5c05a6393a, 440872c1fc6f313677baee9557a2e45106188686, 2afaff8cb8697dba11c6ae2d158ed82de100bce2, e46d8bcda8cad275b856aaada98cfbb1121f6df7, 1e6b6fc3b479744072fea27f51a9f5eed060c1e6, 81e6fc565f8763e25312d588aadcfa8b885862bb, 24d17c859be58f93c416dbedf000d136a3b17fee, d0d68e364e2f060642819783db8d074321e08250, cb40a8774d08b11d779cb4be33dbf4c7bb1ffea7, be3424e790acfd8bcde9026f1a149c37d721ddc1, 67ee6c73126d5d77a9cdcbc9ed66d26cea9c030b, 02fa328fb3843d852d48e5c748be616f3a9a0b59, 340e9fc2f902ff0b776b1e12f03a82ee323217ce, b037dacd4c07a90abd1ae112f82adf5ab72bd1f5, 14e817d513caa0f28dd25d00916295323c0a005e, 0ba8e60adafd889e7b2e7e74dc25fb99d8e77713, 852b45c50072c02d68cfb97d49369c1c21e60220, 83f94108ec8841ee7b10cbffba699aefdc9ee200, bbca64b033994ccd42b3e48daa40c3a386cc8ec7, a09c46fb11238b2241006ea240f678e584a86fb2, 4aa0585391df131c3c73035d1345d1701729f840, 1cd6adb38cd333e326a275006ff31b209c4c23f8, e13bc09b6e9aaf72c44ec6177c7a26375bbca49b, 0b0341f3b17e19e567401b37668a61c4966b87d5, ebc4b08081d6d2676a11af1b957fe1b5dee5cd8e, 76ab891a2cdc531ca5a42a771a9b8d70ed186bef, 381a2e81a6bd56da5707ef40358df751725f574d, 3e9cc764009bd33578c000b022f18332025432bf, 90373b55f70c05a20ece99d8acd20f3410256e49, 8e029b9805e83de3d45af25f4b63bd75008f53fc, 29e740fdf739d9e0ab3505fc3983ddc7b03a419b, f1e72dbbde6a8bcdf0eabcf84fd2fd32d75ba5b2, d381bc84963a7510a9ad589710d0d3b903bbbebb, dd4b2cf8f9e193546dd0ea71380afbeee871a4bc, 13cd2941d0470cac7a6855ce07ea386d66752c74, 0675d14bf5fefeb32a412c02ee116a901e1cefbb, c8be819070a4f5f570310c73f2eff84a99e308cb, f8e790533bb7ff4c957823d856ec8fc311f99d1b, 09e4060bf537bcd53686321cf74943eb63ac6092, 25ed1a17a0008f683a816d4b5ac701c3a75c1116, 44d8075dc2cd51b2ab5e9e8476daab7c97eba2fd, f2fcb1246fc3f882e331c813617b4874321eedac, 67151677dc8b4cf6cb8a50c5836225074fb77389, 7dad9dd4d64d3c7830c9fb2fc83cb9074ecb3550, bdadf7706b5018cc9118041bc357f8eb2c798daf, 58836b8a0674ea544b80b4bcc2f1cfcc7f2ef831, 702d1239ab5ae5811a6b53437820f8f395bbb790, bf12df4ab91cf85208e30dadc0575931920e703a, f0476721229f60f2299890563664df1fd32ebdf2, 086158c3a50ac870718026001047c93648d8776f, 28243b1e172abff5358afbe45c1f484dc8c828c5, 631084a824c8fedcb03cedb117051ffc7b4ee37a, b00673e2a41a7f51d73f32d9b5716003f1bd9dd4, eaec62220e96eeedac91e1b023ae419fa93d2800, c3d86ea903b8a7ac475518d6693d3517409eac79, 89a0306e97f21b54272c647f6639feda35a643e6, f3ad02dfe43b62e1e1e6a0c5eb393827b5cdb2d5, d666bb54f5c4edb398ab6df0114439de83825f38, aee8e8b8f4b7df46f2ddc12abd2b7c333099ed85, f2be5befa2c990b8139b8b9ae0334f8404050332, deb977be193697c1c16d5ae326637ea6d55a77a1, ebcb4cfbe64373fa942ea26a06ed94ee14b88812, 53b55d3c70fe53e1216f1a40049a6ef75405aa56, 5c43a683b4fe804cfa5e527c35241f3754ccfa34, f8adc8055b4218dc7cc34a6358b5ca9d2bfc6856, 832d42301b2332afbffa7e74c1c1262bb417ea92, cbd214e7c66d44161be2864d74cba36bdfdc74d1, 8c815289a3f13add86f81888935c45e19d1c0fed, d6248689f96738909ca240b936f1f65d7db99b63, e3ae13ec8f21eb17c34c354cbae9a6149065161a, 69ff28d5024c861f017377742449ac2319f2a04b, cc65d9efc8796fe7ac27fbab435e639454eac92f, b2e2190affa5c35c1c9070a98b644fa26b9c41fb, 062bdce5be8e44ea46ae2b2ec49b55a7c23543bb, 6c7493358c06a6849ce125b71594a340903dba91, 3a7062d0cd0c64d57fd07fa04a198a41d4c9174b, 04a98ee1830d7998ff1b913ec4eed1655ef16162, c8995a5de07f3afbfab0388106f3bf6bdf6efa18, 3b045c52d4c3efb86a2ed718eca12e41c562198d, 622f2856eb552961a2a2bd705bf3602ecf961380, c90a00468b378d0b19cce9db63c65879ce6ce52b, 45270d18db34db698ae6819d1d906b112b200172, a7d675d55c29943c5fd26e62652322a1a84c2661, 1cf55d250595ac84ac1571bcafbea5c14c57f0b2, cf65636a9737e7c3d3af704d44f4cfc6eecd697a, 8b72f2fcdffdbffefd8bfc81f7c643da3d983d49, c6b4ee2e3b91bbe1a423877211f99dc20ba6687e, b495ae4444a70a11517bd0f4133a7903b3777ec5, f85a039d0899f58b6ecc30752c2e0b7fdf732433, 3629586ded794781da5255e421650d167e5a778e, 0b6887f32a4e8cf36dcf28457439dab290eb71cf, c8b386aaf9f270a845146e79a062a945c3c90786, 1ff02784b211ceba16948363d9c69533f1b003ff, bf8e7a4b268068a42bec2cd1ec9b34a1080b91f1, 31ec4c971dcd54fd167de08494fdb803ee3918c7, 13b92453937ab872745c00bfb4c39e3efedc4593, bff851dd0d1a4d7b4aad6250e9c30e310f1843a9, 7452c73a3b79eb6632896223175086180083c55e, e969213707c9ed217c94c872f2bb8096581f3ab3, 5e7100404b7cf76f5b487b8661adaab1c7d597b9, 3a26666ed0fbd369d73c5a8a0fb3047c5c729a27, eca6de7459c0f471ae1badf2625d82a69fa9913a, 4c100bc7c8ea2c39cab58effb5683c15eba3bb28, e0bed22b7daa59ced405c2b7ebbdfc098d91c0fe, 637ee8cce0d37e5897f5183627ef2e4b0596e09b, 65e20728578f487c397b8a8d3819c656f5690c7c, 8be243648b9f04c6babff297c329da777d149f64, f9b6dc756a0a277f4fe2370c7c1afa2d75a9432a, 87fa8c2a14ac0e995a0c49acfa44236e22627fec, eab4918e3a17499b347c34c49588015880debd3b, 0e29a8ac5ac32f9cd0e130f8c1efe00364102c8c, 1233f749034fbe091053bbd4f3a3149f51c46ccb, 49d25a1bf629568758b8d62b31ba4ba43209571e, 5f598a4651c001badb891e8352f036bd0cea5c86, a734e4a9187a335a3ca8acfbbbddd9cc4d0143e4, 7fbc5592a71c8311822fa3b6c5ea04cf2c48de06, c48f98b2d15683e98acba2d6d9963e51a798b8c9, b58b7354bb7735b09cb3ecbc76fa0d2275b51921, c756dc523cec08a696ea069d85ac3fcb49c8eece, 2814073165097e5fa8e14e9c28407bb6f3eed6b1, 79cba37d0404a71a4ab79a6ebbdaa346b0d61d2d, 68679c20b188bc8961c50409a7b233fc44f220c6, df06b1eb5afbdacb87c12ac96d3472164415b4ed, ecf19669a8d9f009b177f56803f03fffc5bd1de2, 30da45bf6fbaae32aa5bbe46a4ff0816c4ef17e3, 4b7845b1ce3c6ab032c4d13c5b39c73556f25db7, 6fa669edb0af96cbcd4dc72fa3f92a5ef724c8fc, 82fa38ef849fcb5ade07223e6110b380583cb3be, 5c1bf1af0dc665abe6eee85859cd328835def848, 285863ab3fe30383a99c3cb3f7d572870ddc1ecd, 7308af9d7523a187ef8457154b0731b6caed12c3, d2c63733a35b1320566f1a96485705930b585e87, f05f79b47baa72a40a989beea6c12275e7816304, 22f1becdbdc6c187146569cad87fb6edcca121e5, 7124e33d84cb7a781b583640b65d5a176d70f91d, 750cc4bea8a8d6c95f7fe4b50b26b9c75e10b022, 15c931eb7a18fcef1d50041936f68d9d5731e093, 3c3f4652b0fa637b6afd675b0d78867d883b7dca, bb316c46199f42d88f35bb5a0e4d3a01566ec609, 5e4dabc9370de9cd5351cd7b0400091921adcc42, d76362636219ba5f69556431252e58a480214031, 727019d3035933fd656abd31546319188887a820, 27784a94ef45a00aa481c05f5633e515f6810e63, eed7a718adf9d9b039eb091e09864c4ed0b82082, 57fe9c2b562d2061c8a6b14b228333c4f8989735, ac0f84231ca802f4044e13f243b9de52f08464a9, a2122a26f3de5807bec50fde314c0a48405622b5, 61105c0bb176d61162e285b324be7bc93c43b088, f76b121e64542dcf8cdd2753e184b084c5886f20, 3b300427e0aa71d76143182bb0de4bbb9043ff1e, 6cfaaa519270ddcaa399ddbc41c27c0f39da8927, 0d22233ab321dd018c52a43d9940f2c9561e1ac4, 2eeffee3fcc5b91242819bc137efe07f23a3f0b2, ee2a0dc645f7e57b1aa444a3dc275dd7b38697b4, 33baac90c4ee6cfaf6b3c035da2d57d6b68afe9c, 610d95b1331884b5d2f37c2f0468c497e6293072, ecdd4320ec6f9380e37ab795554d7fa14983521d, 269cfff97a6e7723da8979c1aad0dccddd253540, 6f11803dc4f47ebe1411cc96e76c64d3c643b85a, dcd98acd69a7a3f87343c52c48b1ac2c493eda15, 87768095063aa77cdacc668c9b81099d18a9566f, 767a39b23f104245d6cb04c76907f097cc0feaa2, d35fb2e8aec62ae308a3cf9de73eb62eb9f81b03, a9cc1801830e387174464cbe62ff056e89742358, bf2b78f11dea6c4ae87a854a831b550109fc7cf5, ae21099d8be47201a06656baae5d7b0a2012371f, 3eca6bea3616f99e4d9bc3a1db92a1650f6796ce, 75b260a2d42e02937016bc6371b872dc014f0a15, eb907245ba85a1d596e30846533e99c82c2e2415, e958b43746892f2a559f3efcd0d0458e8665cd07, 91ffe9ae1fc92cf3e6fcb79c3f7f6a60a66bf285, f8d01f906af3f0013312625b3c97c0a3abad31af, aebdb0f7b3ac4c6b5eb3f4aeecd8ce3c353cd478, cd16303a136e713359149488db334e2728704743, 913370b9f9a3f81283f72c339bbd22897a3da1bf, f6b99d6f3d1f713d2096666b4614914fce48b8a3, 333bdcce7aff43fce4ed56be69864bb10b4125f8, 8d4f985c020030e95cdc47142e763c68dfe181cc, ceb19ffde37b3d8bd1e5127638514b8cfcc4257d, e95cc703557252e506a49607f63ad8e34db744ed, cdb80e49a138989de9a23774c2bac94468fd17ae, fdd65c5c4b25938df9c5e84a57676fb242ffc0ff, 8493b3fc68f01fcdef2fde529855e1f7b8c1a58f, de02aa282669436b621b5ca2a5a5d4256ace2476, 2016865994fc3156716edd0d863bfbbb5cc6cce4, b087aa33eb062542f2f0585cf1f242e59571449e, b13711e38cccf99be01fe1a6504ea15fccab6afc, 8dfcc0dc2bcd4fc988127aaa7648aea878ba9803, eacf2b1182cfb525713212f976070da446f35668, d12938676030d894b13826b1b6f16c8c8bd46b79, a644f155947763cf61179835b5952e2c47ceb539, edfe3e9b87af06bcb063f253e4b33a23c2f40dce, f1d4076769acc595008ed770d0900679d244de98, d23498c20e36b21fc8a7d339be9774fa5deb174e, 9aa0595bfbbbc9ad3dd95f764385dae93b14ba0b, 3b6960825f23b407adfbe4bdbc654ac6bfe463b4, 9e08e19917128ceb1d3c265f93f0733f41aa5b19, 00e81ca68e028625946f1dabe5806bbd9a7599a7, d028030d46d495473e8135892db9470c6fb1ead6, 5adaec94d516a46742c2c61abd2a72ec133e9975, c764877fb84b7307b7745db4f0773fdeffaa7cf6, 7edb94aaa5990625ccfe7c4385a0fd53e55af8a0, 2eb99455c776767536b8633c6ac965599d3778c3, e4624c822ec12731dd9e53fc38f36c7be52f9724, c538cea9a04d618849bcbddccade2ad20c01bab7, 512c84033d7622ca9c8f7dc943d4e25cd982643e, be8fe20c7367dfce383b190b975c365f854cca47, b6b532d238479e9512aea9d3ebb2828b46b7f1ca, 1c033734269a9a60a010d8d1d451f6d7ddada7e3, 5b80e9e9ce3f5a6736af0e4e9a545d3bfa75217b, c6836182030b297a32b9bf4f5b61f6634e8b348f, fcb18758945f48aca7ef9b5cd12bc12e33dff02b, cd61d756aa9ec183291c74743c053ed781b00dbb, 8a2cdce9bd74f2d930f01ac96324a43be2978e64, c071af4c17cba11efc85ec979a43b3b015fb0e64, 94f81e14291243d8b26fb306ec6a4c1b2cb4af86, 183b530e39bd3ebb21739fc2d4105a566f77bc57, d315501a307b2ab2c5c373d3cff22413ef57dda3, 78ccac786706872e5e5c79d5282a61e7a654b410, 635b75b8d9c74e6c4013f4e17dc005b961e8d9a6, 471c97c8113e9df9e6bf98e357b9385a52b4c14b, f14744f6a09a3270a21201f2993e0237ed8c42fd, a1759fbab9505460ea7677cbe831244067353525, c1b6b683262756e371a2cc4f99f863247e1ebbed, e85a0d250d7419aae4ae76375898917475da2365, dc95755237de7db82313f9834bd22b4dd5384c31, 318f555f5c79ac43e5947507fe61c932033e71d6, 2dec372726ed4bde6938d5f54ccd1bc02b9a90fc, 754f37c367bc893b18433b9de726a9d2fd8557c5, b19510bbd981f1ca539dcac2e4e7040046f9d8c7, 477d0230958e16226f6fc6537234579c0607d9ef, e850a9c9c03afcda41be177da601b1e3b55c1178, 80fc5d3abe53b573292c7dd8ae87af791f8eed84, a16860fd38bb4b35a10005c1fb8c9b78f7d62229, c9a70190366b51e7ca189dfcad666601eb3f053e, c4cb3eabc5074ae4e8f2856ea7c43bbed154e7cb, b8329ddc43542433f1bea0c2501b2ec51bb6aa91, 8347cb19005e32bf2cd7c6be6073bd6bae192002, 3391be9ad16c5087b211c52f47643bbe4c554b51, 137756aeb4247b3044c1594bb9aac7db82d9a50d, 352c32533785c306589661bcc888bb84dc92173a, 028af957d81d1c56a1cb3e933de406f0add5ae1f, 1d04c80265a2606507e668ba9538086480d99404, fd85e68b2056eb67b124ba1b861521d69521f9ad, 90e05bf8dd7cbf79877e969668c6e9f30757d918, 2f9c8c72de116f0d326e838bc3ef725bb49ef15f, 117a6de134c00ba3fb0f908ad98581ce88ce7ebf, ce0f0380181d727d06ae78635f3a6535f9dd4db8, a768cbf5a83e2951242210df18a6d5bd73cef362, cbf42aca5549db4657c76b4ddd694417a88fcefc, ce88d58e0fcae6319728eca18fde88e570c1bb4e, 9da3cef227cd1ef611e0aa6ddcb68d632493ce8e, 6ebc9a7d61b96f195c80aa3028109af3c2d07636, 91f675092307af749aeadad8268070824cbf4bd1, ddf96126e37c7b6261704cca01ba473911222efe, bdcf17036df9724df41d188a8f8593127be7e57b, 22ba6f2baa6f9890d15bcb094e19e0a301bbfac1, 4a5d735eef8251007de46487c10ee7b296c3e236, c94f9e40c95fb5cf30d4e1ff2889e4e3657be8bc, 92eb2d50fc8d6a4bdbf788bb8e1307acf7874e5e, 5fc3d1059876a7a41b5e67f909a14abb6a2a9bad, 924f3f34d34c9240383ef9a49b753195f7184ed9, 9276ed3119bfa28084b6814eadc64364cbfa1704, 5119be3d73a6f332ccea9d7b783617e4bcf1a40a, b988da12c5b9b626ad59a71cc7f85a8f8ea91999, 81720b456d88804c50f09e149201c2549b4ed6ac, cb961042bcc111f8e925135534d1f594d385fdf6, 0a81d6fc44a18d04ef12c743a8fc4766a2fa5978, 4bc7612c3fb52d51314133cebf9bfa463ba45f99, a3cc0a9189136556ab1331d9b4e51c408a3fd8fc, e9ee9ab965bc2aa9971ab6084ae77aec2c7b3b3f, 9d0f35fe52f67e29faeea6f37a3efb83cb872f2b, cff6ea641ab3bd2ebf4a6f269ae928dec992ecc7, 2bace7a51d70639a92feadae8f2f3f6b2f84de1d, d22099126b1ffae1e787324683d6a7d0ed0e1ae0, 1765073bdb76d831e30df14364ec5193dc05013b, d4abeee0792fdf292cae525ef630cb739fe23c78, 242a23d410771fa84a363cb40723addf659a8440, f924d48f801e386e020a930ae4f295c4aadb6c9a, af59013b3f70efa75ddc38f1dd6d5f2080e03635, 792103d47f66f9ca105d2c7cdfea1a706b1400da, 163b267e838cb4555eebffa9339cf5b1991d4f34, b876bc77b3382e909d1907a974436b19193a0164, f4a098e007841860b4cf58ee6f2707350d5d22c4, cb77b18339dda0a18122b3d3b841df481891bc06, d40b6a922ac24870e10d60292283e7334ffc614e, 28c81606d0fd98f8a9c08658d632e9233b81ff86, cc734832fd5751e4a96a3a7fb0fb504b0cdde5ba, fab7057e70d0ad1a587b5c1644273f1b3bdcdd0a, c690b3d6d56af9742bb65d96cb034954f590eaa3, a978a05fcc6310de863c3a0365743a4f5d04aa41, 86cfb48a1b083f82b73fb99e3e0921e164d7df83, cd4e198ad20b1fddf6cbe9566bb48ddaf7a340ba, 0db1e0e172208eb8747b7e0b9d50e6f1762b35be, f6672ebe951d7c7c4b96e53354a77e39d0a8deab, af326196c258b763f80d6c38240485fae7d935b0, c3c9d32ddb63922986f56324938e5987b5bbf670, b559ab51e178ab5cbc9a1981343e880455876822, f2dd452e78b8d0dc98c230863c25fab2076432e7, e015e11dbb4dda4fac41356dae6bbe24c88a1f16, b26d9eef76e4f1f3992a586c373b9e016b553c25, c26bbcf54a7ac23f8b496d9b084e70fa50479da9, d52346e51b62a267a06a0f7a75cea7ef32536b6c, 1d49573a292214af108f737909dacd8a1d9c4cd5, b93062f9a3e0c984ccddd3fab817e17523cf2432, a026a77909a470c0d9ce745f2ef32fc2eccee222, 8f825f02d1f52f0fd7589781a10c5e124529bf6b, a43edf1c8056cf8d5057dba74fa756ead55c6b15, b016ceb70b9ad3f20c6435ac84f2f6267503ff10, fff86e67d2d25fe076acb6317dcb749cf540aeea, 79e8d5860db3b8b05f65b073466f3eeee51b879b, b07f4bf855096bc48ead51bf2ab6b03743ebb095, 3e141d2229e5d482fb5dc8c18f2d8756517b4ceb, 4c0a8acb92f7d6e4ac73cf528d4bb6f4e505f807, e512a4913fe630b56b25a7b395a93d344e2b3069, 9c4f6dad34ba2e45ea7d8d56eb42b0b12d6e0eb0, 235aca7f1f01f6080baa6bad581e62dae92ea048, f5d50c6bb39b220efa3ed783938ed8f57b104d5a, 8493139bc7468b4bbaf8eb96c7f4ff482e11b759, 04f9829a3b602cadca85cdc6b004f27f62841c61, d959dd6afdb70c35b07e3676c15daf15b6231f9a, aa079b66ac35d845511c291488c09cb2d8bf7860, f52949169bf794c88503a99097e1abc1242da5ad, 74f2fec50c009646d4c12342bdc6c34ba31c1837, 8d81dd6d63415c0cd2d3925296c3a1b60caf288e, 8a7444e6a14c7b0677fa0219237a734e5159bb1f, 41d3a26278e7a35f912d2f4669f5172d795a6b9b, e0610cc2db4d25931fda9cb39bce5bc5e0aacc0d, 2c38f836700a270cb785631bf697dbe529e1d6f3, cf85447ffb0a25612ae14a9f9e8ba2cc9a73c54d, 51b512a777aa9c379b08463b44247a498cb5efed, 2cb817299a02439751c7552145b88fc4f7ec3f1a, 057b03ec3bad377255b247821fcba9f06893767f, 4c8ecea0733f31d2befe717c67d29438ead414c7, 83ef514d8bf498ed3a2f3db308e8b2c59fe66f79, 920aee12bad4c12b6ab903d915434c3d316dd33c, e2270b8ac9a48d4cd47addf7e8c052e504709234, e300937792c0db3eea8aecc1d4e1f262768f0e69, c475759f7c871efbe97bf445700e653dbbb9bf76, c626b3fba02fb60bb982d53e85368cf9b6a7649e, c2c33df8edfd3bac5ebbce3ea4992c32fc7ca942, 70517cff9bb07622f68c950f4d4322fc6054190b, 6ad412aeaadc0477a734b9ce7e4ce8b19db17cb4, 302f69e00c20f639379e42b21c876a6c5b9afda8, 642cc466fa3673a552255d2debbd95f9e2dc893d, cb25fcf88d4b796f49f45bd27697e8a507f0ef52, ca826c5944ba40644ca2c1169d41512c149a919e, 1a51616528180f34c43845739e312128370aa6ce, d832695b69ba4c83e240530e1a91d6d445459e91, 3e2fdf7a20ef6e7a5ae2666503dff044104cdac1, 1aeccd28e22e84ee9d9e8171b709dd86578fd1ba, 56cbc1bdfb3821dfabbbc8657c6a79473427337b, 3ee4a941bf40e151ce00b97d01c9b441f6059528, 1857390c499ac61231e779d583c94459ff09a86b, addf343eb8f24447aee62716fc19596367a57206, d04e200236e237f1dd99219dc49e02cccf590270, 03c29b42106fa4a4b64c293b4fd4ac73817453e0, 298264ff71b88b81d9ad83b46ce2a4bd43ce2100, 732688ee1fe6d7c751e71d295a4db2881e0af424, f91866d4db8c78c8fc937ef3437de1c691132cab, 34872f7089de375d9af813200d8bdb2dbca06451, 0b7c78ad224fd3908d301a60cfcd1eca61737af4, 39730b9f7fd5628a3940aca0c8d4270223970725, c8647e4cb6f047392e6376ab37fc0a4bb452af9e, bc97e537e6e8580244c0aca55b062b816d8357eb, 880d766c8c1d7191e9911ba4e38490c7e1f85bfd, 68d7acf3fefeaec1e959c82e0e6c03febd0785d1, f3dfa71e182cc6acdf92814fde070b5da2abed7e, f1b87087a4e09b73e05b81dae2c60eb6c895c270, 4736d1b02bb9ccd58ff4ffe72149d6ed17891939, 971f89b57241002cca0da2ea1e089a64c390115c, 233934aaec28c0cdcb16cdc490568d009a07514b, 92d56c6fe9e5eb6b5ee7836f0f1217c15eafae72, 68ccf0078a450b4ac83deda673f1cff04b842664, 076938fe39e7e2a3654a875858e1523f9de0eef2, fd9523dc92f0a849102d8200c4e494139a2a4698, 4839d3b84eccea819a9eeb1147492037902bf4d4, 64d23e69923b97f0c7dd305950f877867d96b2a4'\n",
      "\n",
      "\u001b[31m\u001b[1mPlugin error from feature-classifier:\n",
      "\n",
      "  'Reference taxonomy and search results do not match. The following identifiers were reported in the search results but are not present in the reference taxonomy: 8e42477fc959136a7956d118f02896750cbbc56e, fe4d34b858ef4c7efa6f4d89d7903f0c85d8bb65, 2c5fac82ac5c06be5c435c424a0fdefaa910942b, fd34e3a38c106b7bbb75b03cf46e167bac0ee784, 279d4d82e67460e8cbecdfa8179fe2a6e686107a, c4da4c4ff1f2171bf05a19ded770a14ac9fd500b, 062108de2a66d4ae57c1fc14ce9cadf15efe9ad5, 598fea4e25522c692665ac334d144483bf6d0784, ef9a3e3b1c09d37a6885cc53f9a21d5c05a6393a, 440872c1fc6f313677baee9557a2e45106188686, 2afaff8cb8697dba11c6ae2d158ed82de100bce2, e46d8bcda8cad275b856aaada98cfbb1121f6df7, 1e6b6fc3b479744072fea27f51a9f5eed060c1e6, 81e6fc565f8763e25312d588aadcfa8b885862bb, 24d17c859be58f93c416dbedf000d136a3b17fee, d0d68e364e2f060642819783db8d074321e08250, cb40a8774d08b11d779cb4be33dbf4c7bb1ffea7, be3424e790acfd8bcde9026f1a149c37d721ddc1, 67ee6c73126d5d77a9cdcbc9ed66d26cea9c030b, 02fa328fb3843d852d48e5c748be616f3a9a0b59, 340e9fc2f902ff0b776b1e12f03a82ee323217ce, b037dacd4c07a90abd1ae112f82adf5ab72bd1f5, 14e817d513caa0f28dd25d00916295323c0a005e, 0ba8e60adafd889e7b2e7e74dc25fb99d8e77713, 852b45c50072c02d68cfb97d49369c1c21e60220, 83f94108ec8841ee7b10cbffba699aefdc9ee200, bbca64b033994ccd42b3e48daa40c3a386cc8ec7, a09c46fb11238b2241006ea240f678e584a86fb2, 4aa0585391df131c3c73035d1345d1701729f840, 1cd6adb38cd333e326a275006ff31b209c4c23f8, e13bc09b6e9aaf72c44ec6177c7a26375bbca49b, 0b0341f3b17e19e567401b37668a61c4966b87d5, ebc4b08081d6d2676a11af1b957fe1b5dee5cd8e, 76ab891a2cdc531ca5a42a771a9b8d70ed186bef, 381a2e81a6bd56da5707ef40358df751725f574d, 3e9cc764009bd33578c000b022f18332025432bf, 90373b55f70c05a20ece99d8acd20f3410256e49, 8e029b9805e83de3d45af25f4b63bd75008f53fc, 29e740fdf739d9e0ab3505fc3983ddc7b03a419b, f1e72dbbde6a8bcdf0eabcf84fd2fd32d75ba5b2, d381bc84963a7510a9ad589710d0d3b903bbbebb, dd4b2cf8f9e193546dd0ea71380afbeee871a4bc, 13cd2941d0470cac7a6855ce07ea386d66752c74, 0675d14bf5fefeb32a412c02ee116a901e1cefbb, c8be819070a4f5f570310c73f2eff84a99e308cb, f8e790533bb7ff4c957823d856ec8fc311f99d1b, 09e4060bf537bcd53686321cf74943eb63ac6092, 25ed1a17a0008f683a816d4b5ac701c3a75c1116, 44d8075dc2cd51b2ab5e9e8476daab7c97eba2fd, f2fcb1246fc3f882e331c813617b4874321eedac, 67151677dc8b4cf6cb8a50c5836225074fb77389, 7dad9dd4d64d3c7830c9fb2fc83cb9074ecb3550, bdadf7706b5018cc9118041bc357f8eb2c798daf, 58836b8a0674ea544b80b4bcc2f1cfcc7f2ef831, 702d1239ab5ae5811a6b53437820f8f395bbb790, bf12df4ab91cf85208e30dadc0575931920e703a, f0476721229f60f2299890563664df1fd32ebdf2, 086158c3a50ac870718026001047c93648d8776f, 28243b1e172abff5358afbe45c1f484dc8c828c5, 631084a824c8fedcb03cedb117051ffc7b4ee37a, b00673e2a41a7f51d73f32d9b5716003f1bd9dd4, eaec62220e96eeedac91e1b023ae419fa93d2800, c3d86ea903b8a7ac475518d6693d3517409eac79, 89a0306e97f21b54272c647f6639feda35a643e6, f3ad02dfe43b62e1e1e6a0c5eb393827b5cdb2d5, d666bb54f5c4edb398ab6df0114439de83825f38, aee8e8b8f4b7df46f2ddc12abd2b7c333099ed85, f2be5befa2c990b8139b8b9ae0334f8404050332, deb977be193697c1c16d5ae326637ea6d55a77a1, ebcb4cfbe64373fa942ea26a06ed94ee14b88812, 53b55d3c70fe53e1216f1a40049a6ef75405aa56, 5c43a683b4fe804cfa5e527c35241f3754ccfa34, f8adc8055b4218dc7cc34a6358b5ca9d2bfc6856, 832d42301b2332afbffa7e74c1c1262bb417ea92, cbd214e7c66d44161be2864d74cba36bdfdc74d1, 8c815289a3f13add86f81888935c45e19d1c0fed, d6248689f96738909ca240b936f1f65d7db99b63, e3ae13ec8f21eb17c34c354cbae9a6149065161a, 69ff28d5024c861f017377742449ac2319f2a04b, cc65d9efc8796fe7ac27fbab435e639454eac92f, b2e2190affa5c35c1c9070a98b644fa26b9c41fb, 062bdce5be8e44ea46ae2b2ec49b55a7c23543bb, 6c7493358c06a6849ce125b71594a340903dba91, 3a7062d0cd0c64d57fd07fa04a198a41d4c9174b, 04a98ee1830d7998ff1b913ec4eed1655ef16162, c8995a5de07f3afbfab0388106f3bf6bdf6efa18, 3b045c52d4c3efb86a2ed718eca12e41c562198d, 622f2856eb552961a2a2bd705bf3602ecf961380, c90a00468b378d0b19cce9db63c65879ce6ce52b, 45270d18db34db698ae6819d1d906b112b200172, a7d675d55c29943c5fd26e62652322a1a84c2661, 1cf55d250595ac84ac1571bcafbea5c14c57f0b2, cf65636a9737e7c3d3af704d44f4cfc6eecd697a, 8b72f2fcdffdbffefd8bfc81f7c643da3d983d49, c6b4ee2e3b91bbe1a423877211f99dc20ba6687e, b495ae4444a70a11517bd0f4133a7903b3777ec5, f85a039d0899f58b6ecc30752c2e0b7fdf732433, 3629586ded794781da5255e421650d167e5a778e, 0b6887f32a4e8cf36dcf28457439dab290eb71cf, c8b386aaf9f270a845146e79a062a945c3c90786, 1ff02784b211ceba16948363d9c69533f1b003ff, bf8e7a4b268068a42bec2cd1ec9b34a1080b91f1, 31ec4c971dcd54fd167de08494fdb803ee3918c7, 13b92453937ab872745c00bfb4c39e3efedc4593, bff851dd0d1a4d7b4aad6250e9c30e310f1843a9, 7452c73a3b79eb6632896223175086180083c55e, e969213707c9ed217c94c872f2bb8096581f3ab3, 5e7100404b7cf76f5b487b8661adaab1c7d597b9, 3a26666ed0fbd369d73c5a8a0fb3047c5c729a27, eca6de7459c0f471ae1badf2625d82a69fa9913a, 4c100bc7c8ea2c39cab58effb5683c15eba3bb28, e0bed22b7daa59ced405c2b7ebbdfc098d91c0fe, 637ee8cce0d37e5897f5183627ef2e4b0596e09b, 65e20728578f487c397b8a8d3819c656f5690c7c, 8be243648b9f04c6babff297c329da777d149f64, f9b6dc756a0a277f4fe2370c7c1afa2d75a9432a, 87fa8c2a14ac0e995a0c49acfa44236e22627fec, eab4918e3a17499b347c34c49588015880debd3b, 0e29a8ac5ac32f9cd0e130f8c1efe00364102c8c, 1233f749034fbe091053bbd4f3a3149f51c46ccb, 49d25a1bf629568758b8d62b31ba4ba43209571e, 5f598a4651c001badb891e8352f036bd0cea5c86, a734e4a9187a335a3ca8acfbbbddd9cc4d0143e4, 7fbc5592a71c8311822fa3b6c5ea04cf2c48de06, c48f98b2d15683e98acba2d6d9963e51a798b8c9, b58b7354bb7735b09cb3ecbc76fa0d2275b51921, c756dc523cec08a696ea069d85ac3fcb49c8eece, 2814073165097e5fa8e14e9c28407bb6f3eed6b1, 79cba37d0404a71a4ab79a6ebbdaa346b0d61d2d, 68679c20b188bc8961c50409a7b233fc44f220c6, df06b1eb5afbdacb87c12ac96d3472164415b4ed, ecf19669a8d9f009b177f56803f03fffc5bd1de2, 30da45bf6fbaae32aa5bbe46a4ff0816c4ef17e3, 4b7845b1ce3c6ab032c4d13c5b39c73556f25db7, 6fa669edb0af96cbcd4dc72fa3f92a5ef724c8fc, 82fa38ef849fcb5ade07223e6110b380583cb3be, 5c1bf1af0dc665abe6eee85859cd328835def848, 285863ab3fe30383a99c3cb3f7d572870ddc1ecd, 7308af9d7523a187ef8457154b0731b6caed12c3, d2c63733a35b1320566f1a96485705930b585e87, f05f79b47baa72a40a989beea6c12275e7816304, 22f1becdbdc6c187146569cad87fb6edcca121e5, 7124e33d84cb7a781b583640b65d5a176d70f91d, 750cc4bea8a8d6c95f7fe4b50b26b9c75e10b022, 15c931eb7a18fcef1d50041936f68d9d5731e093, 3c3f4652b0fa637b6afd675b0d78867d883b7dca, bb316c46199f42d88f35bb5a0e4d3a01566ec609, 5e4dabc9370de9cd5351cd7b0400091921adcc42, d76362636219ba5f69556431252e58a480214031, 727019d3035933fd656abd31546319188887a820, 27784a94ef45a00aa481c05f5633e515f6810e63, eed7a718adf9d9b039eb091e09864c4ed0b82082, 57fe9c2b562d2061c8a6b14b228333c4f8989735, ac0f84231ca802f4044e13f243b9de52f08464a9, a2122a26f3de5807bec50fde314c0a48405622b5, 61105c0bb176d61162e285b324be7bc93c43b088, f76b121e64542dcf8cdd2753e184b084c5886f20, 3b300427e0aa71d76143182bb0de4bbb9043ff1e, 6cfaaa519270ddcaa399ddbc41c27c0f39da8927, 0d22233ab321dd018c52a43d9940f2c9561e1ac4, 2eeffee3fcc5b91242819bc137efe07f23a3f0b2, ee2a0dc645f7e57b1aa444a3dc275dd7b38697b4, 33baac90c4ee6cfaf6b3c035da2d57d6b68afe9c, 610d95b1331884b5d2f37c2f0468c497e6293072, ecdd4320ec6f9380e37ab795554d7fa14983521d, 269cfff97a6e7723da8979c1aad0dccddd253540, 6f11803dc4f47ebe1411cc96e76c64d3c643b85a, dcd98acd69a7a3f87343c52c48b1ac2c493eda15, 87768095063aa77cdacc668c9b81099d18a9566f, 767a39b23f104245d6cb04c76907f097cc0feaa2, d35fb2e8aec62ae308a3cf9de73eb62eb9f81b03, a9cc1801830e387174464cbe62ff056e89742358, bf2b78f11dea6c4ae87a854a831b550109fc7cf5, ae21099d8be47201a06656baae5d7b0a2012371f, 3eca6bea3616f99e4d9bc3a1db92a1650f6796ce, 75b260a2d42e02937016bc6371b872dc014f0a15, eb907245ba85a1d596e30846533e99c82c2e2415, e958b43746892f2a559f3efcd0d0458e8665cd07, 91ffe9ae1fc92cf3e6fcb79c3f7f6a60a66bf285, f8d01f906af3f0013312625b3c97c0a3abad31af, aebdb0f7b3ac4c6b5eb3f4aeecd8ce3c353cd478, cd16303a136e713359149488db334e2728704743, 913370b9f9a3f81283f72c339bbd22897a3da1bf, f6b99d6f3d1f713d2096666b4614914fce48b8a3, 333bdcce7aff43fce4ed56be69864bb10b4125f8, 8d4f985c020030e95cdc47142e763c68dfe181cc, ceb19ffde37b3d8bd1e5127638514b8cfcc4257d, e95cc703557252e506a49607f63ad8e34db744ed, cdb80e49a138989de9a23774c2bac94468fd17ae, fdd65c5c4b25938df9c5e84a57676fb242ffc0ff, 8493b3fc68f01fcdef2fde529855e1f7b8c1a58f, de02aa282669436b621b5ca2a5a5d4256ace2476, 2016865994fc3156716edd0d863bfbbb5cc6cce4, b087aa33eb062542f2f0585cf1f242e59571449e, b13711e38cccf99be01fe1a6504ea15fccab6afc, 8dfcc0dc2bcd4fc988127aaa7648aea878ba9803, eacf2b1182cfb525713212f976070da446f35668, d12938676030d894b13826b1b6f16c8c8bd46b79, a644f155947763cf61179835b5952e2c47ceb539, edfe3e9b87af06bcb063f253e4b33a23c2f40dce, f1d4076769acc595008ed770d0900679d244de98, d23498c20e36b21fc8a7d339be9774fa5deb174e, 9aa0595bfbbbc9ad3dd95f764385dae93b14ba0b, 3b6960825f23b407adfbe4bdbc654ac6bfe463b4, 9e08e19917128ceb1d3c265f93f0733f41aa5b19, 00e81ca68e028625946f1dabe5806bbd9a7599a7, d028030d46d495473e8135892db9470c6fb1ead6, 5adaec94d516a46742c2c61abd2a72ec133e9975, c764877fb84b7307b7745db4f0773fdeffaa7cf6, 7edb94aaa5990625ccfe7c4385a0fd53e55af8a0, 2eb99455c776767536b8633c6ac965599d3778c3, e4624c822ec12731dd9e53fc38f36c7be52f9724, c538cea9a04d618849bcbddccade2ad20c01bab7, 512c84033d7622ca9c8f7dc943d4e25cd982643e, be8fe20c7367dfce383b190b975c365f854cca47, b6b532d238479e9512aea9d3ebb2828b46b7f1ca, 1c033734269a9a60a010d8d1d451f6d7ddada7e3, 5b80e9e9ce3f5a6736af0e4e9a545d3bfa75217b, c6836182030b297a32b9bf4f5b61f6634e8b348f, fcb18758945f48aca7ef9b5cd12bc12e33dff02b, cd61d756aa9ec183291c74743c053ed781b00dbb, 8a2cdce9bd74f2d930f01ac96324a43be2978e64, c071af4c17cba11efc85ec979a43b3b015fb0e64, 94f81e14291243d8b26fb306ec6a4c1b2cb4af86, 183b530e39bd3ebb21739fc2d4105a566f77bc57, d315501a307b2ab2c5c373d3cff22413ef57dda3, 78ccac786706872e5e5c79d5282a61e7a654b410, 635b75b8d9c74e6c4013f4e17dc005b961e8d9a6, 471c97c8113e9df9e6bf98e357b9385a52b4c14b, f14744f6a09a3270a21201f2993e0237ed8c42fd, a1759fbab9505460ea7677cbe831244067353525, c1b6b683262756e371a2cc4f99f863247e1ebbed, e85a0d250d7419aae4ae76375898917475da2365, dc95755237de7db82313f9834bd22b4dd5384c31, 318f555f5c79ac43e5947507fe61c932033e71d6, 2dec372726ed4bde6938d5f54ccd1bc02b9a90fc, 754f37c367bc893b18433b9de726a9d2fd8557c5, b19510bbd981f1ca539dcac2e4e7040046f9d8c7, 477d0230958e16226f6fc6537234579c0607d9ef, e850a9c9c03afcda41be177da601b1e3b55c1178, 80fc5d3abe53b573292c7dd8ae87af791f8eed84, a16860fd38bb4b35a10005c1fb8c9b78f7d62229, c9a70190366b51e7ca189dfcad666601eb3f053e, c4cb3eabc5074ae4e8f2856ea7c43bbed154e7cb, b8329ddc43542433f1bea0c2501b2ec51bb6aa91, 8347cb19005e32bf2cd7c6be6073bd6bae192002, 3391be9ad16c5087b211c52f47643bbe4c554b51, 137756aeb4247b3044c1594bb9aac7db82d9a50d, 352c32533785c306589661bcc888bb84dc92173a, 028af957d81d1c56a1cb3e933de406f0add5ae1f, 1d04c80265a2606507e668ba9538086480d99404, fd85e68b2056eb67b124ba1b861521d69521f9ad, 90e05bf8dd7cbf79877e969668c6e9f30757d918, 2f9c8c72de116f0d326e838bc3ef725bb49ef15f, 117a6de134c00ba3fb0f908ad98581ce88ce7ebf, ce0f0380181d727d06ae78635f3a6535f9dd4db8, a768cbf5a83e2951242210df18a6d5bd73cef362, cbf42aca5549db4657c76b4ddd694417a88fcefc, ce88d58e0fcae6319728eca18fde88e570c1bb4e, 9da3cef227cd1ef611e0aa6ddcb68d632493ce8e, 6ebc9a7d61b96f195c80aa3028109af3c2d07636, 91f675092307af749aeadad8268070824cbf4bd1, ddf96126e37c7b6261704cca01ba473911222efe, bdcf17036df9724df41d188a8f8593127be7e57b, 22ba6f2baa6f9890d15bcb094e19e0a301bbfac1, 4a5d735eef8251007de46487c10ee7b296c3e236, c94f9e40c95fb5cf30d4e1ff2889e4e3657be8bc, 92eb2d50fc8d6a4bdbf788bb8e1307acf7874e5e, 5fc3d1059876a7a41b5e67f909a14abb6a2a9bad, 924f3f34d34c9240383ef9a49b753195f7184ed9, 9276ed3119bfa28084b6814eadc64364cbfa1704, 5119be3d73a6f332ccea9d7b783617e4bcf1a40a, b988da12c5b9b626ad59a71cc7f85a8f8ea91999, 81720b456d88804c50f09e149201c2549b4ed6ac, cb961042bcc111f8e925135534d1f594d385fdf6, 0a81d6fc44a18d04ef12c743a8fc4766a2fa5978, 4bc7612c3fb52d51314133cebf9bfa463ba45f99, a3cc0a9189136556ab1331d9b4e51c408a3fd8fc, e9ee9ab965bc2aa9971ab6084ae77aec2c7b3b3f, 9d0f35fe52f67e29faeea6f37a3efb83cb872f2b, cff6ea641ab3bd2ebf4a6f269ae928dec992ecc7, 2bace7a51d70639a92feadae8f2f3f6b2f84de1d, d22099126b1ffae1e787324683d6a7d0ed0e1ae0, 1765073bdb76d831e30df14364ec5193dc05013b, d4abeee0792fdf292cae525ef630cb739fe23c78, 242a23d410771fa84a363cb40723addf659a8440, f924d48f801e386e020a930ae4f295c4aadb6c9a, af59013b3f70efa75ddc38f1dd6d5f2080e03635, 792103d47f66f9ca105d2c7cdfea1a706b1400da, 163b267e838cb4555eebffa9339cf5b1991d4f34, b876bc77b3382e909d1907a974436b19193a0164, f4a098e007841860b4cf58ee6f2707350d5d22c4, cb77b18339dda0a18122b3d3b841df481891bc06, d40b6a922ac24870e10d60292283e7334ffc614e, 28c81606d0fd98f8a9c08658d632e9233b81ff86, cc734832fd5751e4a96a3a7fb0fb504b0cdde5ba, fab7057e70d0ad1a587b5c1644273f1b3bdcdd0a, c690b3d6d56af9742bb65d96cb034954f590eaa3, a978a05fcc6310de863c3a0365743a4f5d04aa41, 86cfb48a1b083f82b73fb99e3e0921e164d7df83, cd4e198ad20b1fddf6cbe9566bb48ddaf7a340ba, 0db1e0e172208eb8747b7e0b9d50e6f1762b35be, f6672ebe951d7c7c4b96e53354a77e39d0a8deab, af326196c258b763f80d6c38240485fae7d935b0, c3c9d32ddb63922986f56324938e5987b5bbf670, b559ab51e178ab5cbc9a1981343e880455876822, f2dd452e78b8d0dc98c230863c25fab2076432e7, e015e11dbb4dda4fac41356dae6bbe24c88a1f16, b26d9eef76e4f1f3992a586c373b9e016b553c25, c26bbcf54a7ac23f8b496d9b084e70fa50479da9, d52346e51b62a267a06a0f7a75cea7ef32536b6c, 1d49573a292214af108f737909dacd8a1d9c4cd5, b93062f9a3e0c984ccddd3fab817e17523cf2432, a026a77909a470c0d9ce745f2ef32fc2eccee222, 8f825f02d1f52f0fd7589781a10c5e124529bf6b, a43edf1c8056cf8d5057dba74fa756ead55c6b15, b016ceb70b9ad3f20c6435ac84f2f6267503ff10, fff86e67d2d25fe076acb6317dcb749cf540aeea, 79e8d5860db3b8b05f65b073466f3eeee51b879b, b07f4bf855096bc48ead51bf2ab6b03743ebb095, 3e141d2229e5d482fb5dc8c18f2d8756517b4ceb, 4c0a8acb92f7d6e4ac73cf528d4bb6f4e505f807, e512a4913fe630b56b25a7b395a93d344e2b3069, 9c4f6dad34ba2e45ea7d8d56eb42b0b12d6e0eb0, 235aca7f1f01f6080baa6bad581e62dae92ea048, f5d50c6bb39b220efa3ed783938ed8f57b104d5a, 8493139bc7468b4bbaf8eb96c7f4ff482e11b759, 04f9829a3b602cadca85cdc6b004f27f62841c61, d959dd6afdb70c35b07e3676c15daf15b6231f9a, aa079b66ac35d845511c291488c09cb2d8bf7860, f52949169bf794c88503a99097e1abc1242da5ad, 74f2fec50c009646d4c12342bdc6c34ba31c1837, 8d81dd6d63415c0cd2d3925296c3a1b60caf288e, 8a7444e6a14c7b0677fa0219237a734e5159bb1f, 41d3a26278e7a35f912d2f4669f5172d795a6b9b, e0610cc2db4d25931fda9cb39bce5bc5e0aacc0d, 2c38f836700a270cb785631bf697dbe529e1d6f3, cf85447ffb0a25612ae14a9f9e8ba2cc9a73c54d, 51b512a777aa9c379b08463b44247a498cb5efed, 2cb817299a02439751c7552145b88fc4f7ec3f1a, 057b03ec3bad377255b247821fcba9f06893767f, 4c8ecea0733f31d2befe717c67d29438ead414c7, 83ef514d8bf498ed3a2f3db308e8b2c59fe66f79, 920aee12bad4c12b6ab903d915434c3d316dd33c, e2270b8ac9a48d4cd47addf7e8c052e504709234, e300937792c0db3eea8aecc1d4e1f262768f0e69, c475759f7c871efbe97bf445700e653dbbb9bf76, c626b3fba02fb60bb982d53e85368cf9b6a7649e, c2c33df8edfd3bac5ebbce3ea4992c32fc7ca942, 70517cff9bb07622f68c950f4d4322fc6054190b, 6ad412aeaadc0477a734b9ce7e4ce8b19db17cb4, 302f69e00c20f639379e42b21c876a6c5b9afda8, 642cc466fa3673a552255d2debbd95f9e2dc893d, cb25fcf88d4b796f49f45bd27697e8a507f0ef52, ca826c5944ba40644ca2c1169d41512c149a919e, 1a51616528180f34c43845739e312128370aa6ce, d832695b69ba4c83e240530e1a91d6d445459e91, 3e2fdf7a20ef6e7a5ae2666503dff044104cdac1, 1aeccd28e22e84ee9d9e8171b709dd86578fd1ba, 56cbc1bdfb3821dfabbbc8657c6a79473427337b, 3ee4a941bf40e151ce00b97d01c9b441f6059528, 1857390c499ac61231e779d583c94459ff09a86b, addf343eb8f24447aee62716fc19596367a57206, d04e200236e237f1dd99219dc49e02cccf590270, 03c29b42106fa4a4b64c293b4fd4ac73817453e0, 298264ff71b88b81d9ad83b46ce2a4bd43ce2100, 732688ee1fe6d7c751e71d295a4db2881e0af424, f91866d4db8c78c8fc937ef3437de1c691132cab, 34872f7089de375d9af813200d8bdb2dbca06451, 0b7c78ad224fd3908d301a60cfcd1eca61737af4, 39730b9f7fd5628a3940aca0c8d4270223970725, c8647e4cb6f047392e6376ab37fc0a4bb452af9e, bc97e537e6e8580244c0aca55b062b816d8357eb, 880d766c8c1d7191e9911ba4e38490c7e1f85bfd, 68d7acf3fefeaec1e959c82e0e6c03febd0785d1, f3dfa71e182cc6acdf92814fde070b5da2abed7e, f1b87087a4e09b73e05b81dae2c60eb6c895c270, 4736d1b02bb9ccd58ff4ffe72149d6ed17891939, 971f89b57241002cca0da2ea1e089a64c390115c, 233934aaec28c0cdcb16cdc490568d009a07514b, 92d56c6fe9e5eb6b5ee7836f0f1217c15eafae72, 68ccf0078a450b4ac83deda673f1cff04b842664, 076938fe39e7e2a3654a875858e1523f9de0eef2, fd9523dc92f0a849102d8200c4e494139a2a4698, 4839d3b84eccea819a9eeb1147492037902bf4d4, 64d23e69923b97f0c7dd305950f877867d96b2a4'\n",
      "\n",
      "See above for debug info.\u001b[0m\n",
      "\u001b[0m(qiime2-2023.7) \n"
     ]
    },
    {
     "ename": "",
     "evalue": "1",
     "output_type": "error",
     "traceback": []
    }
   ],
   "source": [
    "qiime feature-classifier classify-consensus-vsearch --i-query rep-seqs-caecilian-paired.qza --i-reference-reads rep-seqs_Amphibianskin_bacteria.qza --i-reference-taxonomy Antifungal_Isolates_Database_Taxonomy.qza --p-perc-identity 1.0 --o-classification vsearch-isolates-assign-100.qza --o-search-results isolates-search-res-100.qza --verbose"
   ]
  },
  {
   "cell_type": "markdown",
   "id": "786920bc-3a7a-4e51-9c4e-cbd0d79bc2e1",
   "metadata": {},
   "source": [
    "Got an error saying the reference taxonomy and search results don't match, think this is because it only gives me a sequence ID value that doesn't correspond to anything in the other files. Oh well"
   ]
  }
 ],
 "metadata": {
  "kernelspec": {
   "display_name": "Bash",
   "language": "bash",
   "name": "bash"
  },
  "language_info": {
   "codemirror_mode": "shell",
   "file_extension": ".sh",
   "mimetype": "text/x-sh",
   "name": "bash"
  }
 },
 "nbformat": 4,
 "nbformat_minor": 5
}
